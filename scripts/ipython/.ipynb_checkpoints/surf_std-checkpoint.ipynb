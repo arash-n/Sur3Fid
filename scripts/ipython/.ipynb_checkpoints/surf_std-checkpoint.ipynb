{
 "cells": [
  {
   "cell_type": "code",
   "execution_count": 1,
   "metadata": {
    "collapsed": false
   },
   "outputs": [],
   "source": [
    "import numpy as np\n",
    "import os\n",
    "import nibabel.gifti.giftiio as gio\n",
    "\n",
    "dir='/Users/arashnazeri/Desktop/100307/MNINonLinear/Native/'\n",
    "out_fname='vertices'\n",
    "intent='NIFTI_INTENT_NORMAL'"
   ]
  },
  {
   "cell_type": "code",
   "execution_count": 2,
   "metadata": {
    "collapsed": false
   },
   "outputs": [],
   "source": [
    "os.chdir(dir)\n",
    "myelin_map=gio.read(\"100307.L.MyelinMap.native.func.gii\")\n",
    "myelin_vector=myelin_map.getArraysFromIntent(intent)[0].data\n",
    "zero_myelin=np.where(myelin_vector == 0)[0]\n",
    "nonzero_myelin=np.mean(np.where(myelin_vector > 0))[0]"
   ]
  },
  {
   "cell_type": "code",
   "execution_count": 44,
   "metadata": {
    "collapsed": false
   },
   "outputs": [],
   "source": [
    "np.savetxt(out_fname, nonzero_myelin+1,fmt='%d')"
   ]
  }
 ],
 "metadata": {
  "kernelspec": {
   "display_name": "Python 2",
   "language": "python",
   "name": "python2"
  },
  "language_info": {
   "codemirror_mode": {
    "name": "ipython",
    "version": 2
   },
   "file_extension": ".py",
   "mimetype": "text/x-python",
   "name": "python",
   "nbconvert_exporter": "python",
   "pygments_lexer": "ipython2",
   "version": "2.7.10"
  }
 },
 "nbformat": 4,
 "nbformat_minor": 0
}
